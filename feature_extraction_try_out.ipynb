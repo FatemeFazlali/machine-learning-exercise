{
  "nbformat": 4,
  "nbformat_minor": 0,
  "metadata": {
    "colab": {
      "provenance": []
    },
    "kernelspec": {
      "name": "python3",
      "display_name": "Python 3"
    },
    "language_info": {
      "name": "python"
    }
  },
  "cells": [
    {
      "cell_type": "code",
      "execution_count": null,
      "metadata": {
        "id": "txqVfrLnlQOB"
      },
      "outputs": [],
      "source": [
        "import numpy as np\n",
        "import pandas as pd\n",
        "import seaborn as sns\n",
        "import xgboost as xgb\n",
        "import matplotlib.pyplot as plt\n",
        "\n",
        "\n",
        "from sklearn.preprocessing import LabelEncoder\n",
        "\n",
        "\n",
        "from sklearn.ensemble import AdaBoostClassifier\n",
        "from sklearn.ensemble import BaggingClassifier\n",
        "from sklearn.ensemble import RandomForestClassifier\n",
        "from sklearn.ensemble import VotingClassifier\n",
        "from sklearn.ensemble import GradientBoostingClassifier\n",
        "\n",
        "from sklearn.svm import SVC\n",
        "\n",
        "\n",
        "from sklearn.neighbors import KNeighborsClassifier\n",
        "from sklearn.tree import DecisionTreeClassifier\n",
        "from sklearn.linear_model import LogisticRegression\n",
        "from sklearn.linear_model import Perceptron\n",
        "from sklearn.linear_model import SGDClassifier\n",
        "\n",
        "from sklearn.model_selection import train_test_split\n",
        "from sklearn.model_selection import StratifiedKFold\n",
        "from sklearn.model_selection import GridSearchCV\n",
        "from sklearn.model_selection import learning_curve\n",
        "\n",
        "from sklearn.metrics import confusion_matrix\n",
        "from sklearn.metrics import classification_report\n",
        "from sklearn.metrics import roc_auc_score\n",
        "from sklearn.metrics import auc\n",
        "from sklearn.metrics import precision_score\n",
        "from sklearn.metrics import recall_score\n",
        "from sklearn.metrics import accuracy_score\n",
        "from sklearn.metrics import mean_squared_error\n",
        "from sklearn.metrics import f1_score\n",
        "from sklearn.metrics import roc_curve\n",
        "from sklearn.feature_selection import VarianceThreshold"
      ]
    },
    {
      "cell_type": "code",
      "source": [
        "df=pd.read_csv('dermatology.csv')\n",
        "df"
      ],
      "metadata": {
        "id": "Lr1s3Mq0lXe8"
      },
      "execution_count": null,
      "outputs": []
    },
    {
      "cell_type": "code",
      "source": [
        "df.isna().sum()"
      ],
      "metadata": {
        "id": "xh4qJEzhlZyB"
      },
      "execution_count": null,
      "outputs": []
    },
    {
      "cell_type": "code",
      "source": [
        "df.age.values"
      ],
      "metadata": {
        "id": "ts6H-Yvxlb9D"
      },
      "execution_count": null,
      "outputs": []
    },
    {
      "cell_type": "code",
      "source": [
        "from sklearn.impute import SimpleImputer\n",
        "imp= SimpleImputer(missing_values=np.nan, strategy='most_frequent')\n",
        "age_imp=pd.DataFrame(imp.fit_transform(np.array(df.age).reshape(-1,1)))"
      ],
      "metadata": {
        "id": "nPnsUJWqlfVv"
      },
      "execution_count": null,
      "outputs": []
    },
    {
      "cell_type": "code",
      "source": [
        "df.age=age_imp"
      ],
      "metadata": {
        "id": "mIIVDRTjlgGU"
      },
      "execution_count": null,
      "outputs": []
    },
    {
      "cell_type": "code",
      "source": [
        "df.isna().sum()"
      ],
      "metadata": {
        "id": "YNSHUyZcliVF"
      },
      "execution_count": null,
      "outputs": []
    },
    {
      "cell_type": "code",
      "source": [
        "df.groupby('class').count()"
      ],
      "metadata": {
        "id": "AK-zoBYwliv5"
      },
      "execution_count": null,
      "outputs": []
    },
    {
      "cell_type": "code",
      "source": [
        "fig, ax = plt.subplots(figsize=(30,30))     \n",
        "\n",
        "sns.heatmap(df.corr() , annot=True, cmap=plt.cm.PuBu,ax=ax)\n",
        "plt.show()"
      ],
      "metadata": {
        "id": "ETrwQc0llko5"
      },
      "execution_count": null,
      "outputs": []
    },
    {
      "cell_type": "code",
      "source": [
        "x=df.drop(columns=['class'])\n",
        "y=df['class']\n",
        "x.shape"
      ],
      "metadata": {
        "id": "lraU4rDplmoC"
      },
      "execution_count": null,
      "outputs": []
    },
    {
      "cell_type": "code",
      "source": [
        "from sklearn.feature_selection import VarianceThreshold\n",
        "select=VarianceThreshold(threshold=0)\n",
        "x=select.fit_transform(x)\n",
        "x.shape"
      ],
      "metadata": {
        "id": "jvP-YjfVlos8"
      },
      "execution_count": null,
      "outputs": []
    },
    {
      "cell_type": "code",
      "source": [
        "from sklearn.preprocessing import LabelEncoder\n",
        "le = LabelEncoder()\n",
        "y= le.fit_transform(y)"
      ],
      "metadata": {
        "id": "BZX6Coiglqix"
      },
      "execution_count": null,
      "outputs": []
    },
    {
      "cell_type": "markdown",
      "source": [
        "train test split"
      ],
      "metadata": {
        "id": "iQYQRzotlslP"
      }
    },
    {
      "cell_type": "code",
      "source": [
        "from sklearn.preprocessing import LabelEncoder\n",
        "le = LabelEncoder()\n",
        "y= le.fit_transform(y)"
      ],
      "metadata": {
        "id": "0bzJNUIdlyGk"
      },
      "execution_count": null,
      "outputs": []
    },
    {
      "cell_type": "code",
      "source": [
        "from sklearn.model_selection import train_test_split\n",
        "xtrain,xtest,ytrain,ytest=train_test_split(x,y,test_size=0.2,random_state=15)"
      ],
      "metadata": {
        "id": "BsvNbfj8l3Q-"
      },
      "execution_count": null,
      "outputs": []
    },
    {
      "cell_type": "markdown",
      "source": [
        "model num1 :XGBoost model"
      ],
      "metadata": {
        "id": "Sq_8qVS-l7PO"
      }
    },
    {
      "cell_type": "code",
      "source": [
        "from sklearn.model_selection import GridSearchCV\n",
        "PARAMETERS = {\n",
        "              \"max_depth\":[ 5, 10],\n",
        "              \"min_child_weight\":[2,10],\n",
        "              \"learning_rate\":[0.01, 0.1],\n",
        "              \"n_estimators\":[100,200]}\n",
        "xgb_model = xgb.XGBClassifier()\n",
        "model_gs = GridSearchCV(xgb_model,param_grid=PARAMETERS,cv=3,scoring=\"accuracy\")\n",
        "model_gs.fit(xtrain,ytrain)\n",
        "\n",
        "print(model_gs.best_params_)"
      ],
      "metadata": {
        "id": "m3CJ-1pVl6e_"
      },
      "execution_count": null,
      "outputs": []
    },
    {
      "cell_type": "code",
      "source": [
        "xgb_model = xgb.XGBClassifier(learning_rate= 0.1, max_depth= 5, min_child_weight=2,n_estimators= 100)\n",
        "xgb_model.fit(xtrain, ytrain)"
      ],
      "metadata": {
        "id": "IYx9PzyemCC-"
      },
      "execution_count": null,
      "outputs": []
    },
    {
      "cell_type": "code",
      "source": [
        "from sklearn.metrics import accuracy_score,classification_report\n",
        "ypred = xgb_model.predict(xtest)\n",
        "print(accuracy_score(ytest, ypred))\n",
        "print(classification_report(ytest, ypred))"
      ],
      "metadata": {
        "id": "T6zPqDJHmGCD"
      },
      "execution_count": null,
      "outputs": []
    },
    {
      "cell_type": "code",
      "source": [
        "from sklearn.decomposition import PCA\n",
        "\n",
        "pca = PCA(n_components=0.95)\n",
        "X_train_reduced = pca.fit_transform(xtrain)\n",
        "X_test_reduced = pca.transform(xtest)\n",
        "xgb_model.fit(X_train_reduced, ytrain)\n",
        "ypred_pca= xgb_model.predict(X_test_reduced)\n",
        "print(accuracy_score(ytest, ypred_pca))\n",
        "print(classification_report(ytest, ypred_pca))"
      ],
      "metadata": {
        "id": "oOE7t3I0mIiv"
      },
      "execution_count": null,
      "outputs": []
    },
    {
      "cell_type": "markdown",
      "source": [
        "PCA on this dataset and with XGBoost model has bad affect and reduce the accuracy\n"
      ],
      "metadata": {
        "id": "DdqjyNZNmMfW"
      }
    },
    {
      "cell_type": "markdown",
      "source": [
        "grid search:"
      ],
      "metadata": {
        "id": "IPIncJ4nmPaa"
      }
    },
    {
      "cell_type": "code",
      "source": [
        "classifier = [\n",
        "             Perceptron(),\n",
        "             RandomForestClassifier(),\n",
        "             LogisticRegression(),\n",
        "             KNeighborsClassifier(),\n",
        "             SGDClassifier()]\n",
        "perceptron_param_grid={'penalty':['l2','elasticnet']}\n",
        "\n",
        "rf_param_grid = {\"max_features\": [1,10],\n",
        "                \"min_samples_split\":[50],\n",
        "                \"bootstrap\":[True],\n",
        "                \"n_estimators\":[100,300]}\n",
        "\n",
        "\n",
        "logreg_param_grid = {\"C\":np.logspace(-4, 4, 20),\n",
        "                    \"penalty\": [\"l1\",\"l2\",\"none\"]}\n",
        "\n",
        "knn_param_grid = {\"n_neighbors\": np.linspace(2,20,12, dtype = int).tolist(),\n",
        "                 \"weights\": [\"uniform\",\"distance\"],\n",
        "                 \"metric\":[\"euclidean\",\"manhattan\",\"minkowski\"],\n",
        "                 \"leaf_size\": [1,10,30]}\n",
        "\n",
        "sgdc_param_grid = {\n",
        "    \"loss\" : [\"log\"],\n",
        "    \"alpha\" : [0.0001, 0.01, 0.1],\n",
        "    \"penalty\" : [\"l2\", \"l1\", \"none\"]}\n",
        "\n",
        "\n",
        "\n",
        "classifier_param = [perceptron_param_grid,\n",
        "               \n",
        "                   rf_param_grid,\n",
        "                   logreg_param_grid,\n",
        "                   knn_param_grid,\n",
        "                   sgdc_param_grid]\n",
        "\n",
        "cv_result = []\n",
        "best_estimators = []\n",
        "mean_squared_errors = []\n",
        "roc_auc_scores = []\n",
        "recall_scores = []\n",
        "precision_scores = []\n",
        "f1_scores = []\n",
        "\n",
        "\n",
        "for i in range(len(classifier)):\n",
        "    print(\"---------------------------------------------------------------------------\")\n",
        "    clf = GridSearchCV(classifier[i],\n",
        "                       param_grid=classifier_param[i],\n",
        "                       cv = StratifiedKFold(n_splits = 5),\n",
        "                       scoring = \"accuracy\",\n",
        "                       n_jobs = -1,verbose = 2)\n",
        "    \n",
        "    clf.fit(xtrain,ytrain)\n",
        "    \n",
        "    cv_result.append(clf.best_score_)\n",
        "    \n",
        "    mean_squared_errors.append(mean_squared_error(ytest,clf.predict(xtest)))\n",
        "    \n",
        "    recall_scores.append(recall_score(ytest, clf.predict(xtest), average='weighted'))\n",
        "    \n",
        "    precision_scores.append(precision_score(ytest, clf.predict(xtest), average='weighted'))\n",
        "    \n",
        "    f1_scores.append(f1_score(ytest, clf.predict(xtest), average='weighted'))\n",
        "    \n",
        "    best_estimators.append(clf.best_estimator_)\n",
        "    \n",
        "    print(\"Model: {}\".format(classifier[i]))\n",
        "    print(\"Accuracy: %{}\".format(round(cv_result[i]*100,2)))\n",
        "    print(\"MSE: {}\".format(mean_squared_errors[i]))\n",
        "    print(\"Recall: {}\".format(recall_scores[i]))\n",
        "    print(\"Precision: {}\".format(precision_scores[i]))\n",
        "    print(\"F1-Score: {}\".format(f1_scores[i]))\n",
        "    print(\"Best Estimator: {}\".format(clf.best_estimator_))\n",
        "    \n",
        "print(\"---------------------------------------------------------------------------\")\n",
        "\n",
        "sns.set_style(\"darkgrid\")\n",
        "cv_results = pd.DataFrame({\"Accuracy\":cv_result,\n",
        "                           \"MSE\":mean_squared_errors,\n",
        "                           \"Recall\": recall_scores,\n",
        "                           \"Precision\": precision_scores,\n",
        "                           \"F1-Score\":f1_scores,\n",
        "                           \"Models\":[\n",
        "                                    'Perceptron',\n",
        "                                   \"RandomForestClassifier\",\n",
        "                                     \"LogisticRegression\",\n",
        "                                     \"KNeighborsClassifier\",\n",
        "                                     \"SGDClassifier\"\n",
        "                                   ]})\n",
        "\n",
        "cv_results.index = cv_results[\"Models\"]\n",
        "\n",
        "cv_results  = cv_results.drop([\"Models\"], axis = 1)\n",
        "\n",
        "f,ax = plt.subplots(figsize=(14,10))\n",
        "\n",
        "sns.heatmap(cv_results, annot=True,cmap = \"Blues\",fmt= '.3f',\n",
        "            ax=ax,linewidths = 5, cbar = False,\n",
        "            annot_kws={\"size\": 18})\n",
        "\n",
        "plt.xticks(size = 18)\n",
        "plt.yticks(size = 18, rotation = 0)\n",
        "plt.ylabel(\"Models\")\n",
        "plt.title(\"Grid Search Results\", size = 16)\n",
        "plt.show()"
      ],
      "metadata": {
        "id": "B_kmjMf6mNw0"
      },
      "execution_count": null,
      "outputs": []
    },
    {
      "cell_type": "code",
      "source": [
        "best_estimators"
      ],
      "metadata": {
        "id": "CunkbsYymcpP"
      },
      "execution_count": null,
      "outputs": []
    },
    {
      "cell_type": "markdown",
      "source": [
        "grid search with PCA"
      ],
      "metadata": {
        "id": "uEUcZY8MnvYe"
      }
    },
    {
      "cell_type": "code",
      "source": [
        "classifier = [\n",
        "             Perceptron(),\n",
        "             RandomForestClassifier(),\n",
        "             LogisticRegression(),\n",
        "             KNeighborsClassifier(),\n",
        "             SGDClassifier()]\n",
        "perceptron_param_grid={'penalty':['l2','elasticnet']}\n",
        "\n",
        "rf_param_grid = {\"max_features\": [1,10],\n",
        "                \"min_samples_split\":[50],\n",
        "                \"bootstrap\":[True],\n",
        "                \"n_estimators\":[100,300]}\n",
        "\n",
        "\n",
        "logreg_param_grid = {\"C\":np.logspace(-4, 4, 20),\n",
        "                    \"penalty\": [\"l1\",\"l2\",\"none\"]}\n",
        "\n",
        "knn_param_grid = {\"n_neighbors\": np.linspace(2,20,12, dtype = int).tolist(),\n",
        "                 \"weights\": [\"uniform\",\"distance\"],\n",
        "                 \"metric\":[\"euclidean\",\"manhattan\",\"minkowski\"],\n",
        "                 \"leaf_size\": [1,10,30]}\n",
        "\n",
        "sgdc_param_grid = {\n",
        "    \"loss\" : [\"log\"],\n",
        "    \"alpha\" : [0.0001, 0.01, 0.1],\n",
        "    \"penalty\" : [\"l2\", \"l1\", \"none\"]}\n",
        "\n",
        "\n",
        "\n",
        "classifier_param = [perceptron_param_grid,\n",
        "               \n",
        "                   rf_param_grid,\n",
        "                   logreg_param_grid,\n",
        "                   knn_param_grid,\n",
        "                   sgdc_param_grid]\n",
        "cv_result = []\n",
        "best_estimators = []\n",
        "mean_squared_errors = []\n",
        "roc_auc_scores = []\n",
        "recall_scores = []\n",
        "precision_scores = []\n",
        "f1_scores = []\n",
        "\n",
        "\n",
        "for i in range(len(classifier)):\n",
        "    print(\"---------------------------------------------------------------------------\")\n",
        "    clf = GridSearchCV(classifier[i],\n",
        "                       param_grid=classifier_param[i],\n",
        "                       cv = StratifiedKFold(n_splits = 5),\n",
        "                       scoring = \"accuracy\",\n",
        "                       n_jobs = -1,verbose = 2)\n",
        "    \n",
        "    clf.fit(X_train_reduced,ytrain)\n",
        "    \n",
        "    cv_result.append(clf.best_score_)\n",
        "    \n",
        "    mean_squared_errors.append(mean_squared_error(ytest,clf.predict(X_test_reduced)))\n",
        "    \n",
        "    recall_scores.append(recall_score(ytest, clf.predict(X_test_reduced), average='weighted'))\n",
        "    \n",
        "    precision_scores.append(precision_score(ytest, clf.predict(X_test_reduced), average='weighted'))\n",
        "    \n",
        "    f1_scores.append(f1_score(ytest, clf.predict(X_test_reduced), average='weighted'))\n",
        "    \n",
        "    best_estimators.append(clf.best_estimator_)\n",
        "    \n",
        "    print(\"Model: {}\".format(classifier[i]))\n",
        "    print(\"Accuracy: %{}\".format(round(cv_result[i]*100,2)))\n",
        "    print(\"MSE: {}\".format(mean_squared_errors[i]))\n",
        "    print(\"Recall: {}\".format(recall_scores[i]))\n",
        "    print(\"Precision: {}\".format(precision_scores[i]))\n",
        "    print(\"F1-Score: {}\".format(f1_scores[i]))\n",
        "    print(\"Best Estimator: {}\".format(clf.best_estimator_))\n",
        "\n",
        "print(\"---------------------------------------------------------------------------\")\n",
        "\n",
        "sns.set_style(\"darkgrid\")\n",
        "cv_results = pd.DataFrame({\"Accuracy\":cv_result,\n",
        "                           \"MSE\":mean_squared_errors,\n",
        "                           \"Recall\": recall_scores,\n",
        "                           \"Precision\": precision_scores,\n",
        "                           \"F1-Score\":f1_scores,\n",
        "                           \"Models\":[\n",
        "                                    'Perceptron',\n",
        "                                   \"RandomForestClassifier\",\n",
        "                                     \"LogisticRegression\",\n",
        "                                     \"KNeighborsClassifier\",\n",
        "                                     \"SGDClassifier\"\n",
        "                                   ]})\n",
        "\n",
        "cv_results.index = cv_results[\"Models\"]\n",
        "\n",
        "cv_results  = cv_results.drop([\"Models\"], axis = 1)\n",
        "\n",
        "f,ax = plt.subplots(figsize=(14,10))\n",
        "\n",
        "sns.heatmap(cv_results, annot=True,cmap = \"Blues\",fmt= '.3f',\n",
        "            ax=ax,linewidths = 5, cbar = False,\n",
        "            annot_kws={\"size\": 18})\n",
        "\n",
        "plt.xticks(size = 18)\n",
        "plt.yticks(size = 18, rotation = 0)\n",
        "plt.ylabel(\"Models\")\n",
        "plt.title(\"Grid Search Results with feature selection with PCA\", size = 16)\n",
        "plt.show()"
      ],
      "metadata": {
        "id": "ZmQYzCDzmqZK"
      },
      "execution_count": null,
      "outputs": []
    },
    {
      "cell_type": "code",
      "source": [
        "best_estimators"
      ],
      "metadata": {
        "id": "SkbMqDU1n7DS"
      },
      "execution_count": null,
      "outputs": []
    },
    {
      "cell_type": "markdown",
      "source": [
        "the highest accuracy for this datset is for logisticReggression algorithm with 98% truth\n",
        "and PCA is not good at all"
      ],
      "metadata": {
        "id": "29EvTrbCoDBz"
      }
    },
    {
      "cell_type": "code",
      "source": [
        "train_sizes, train_scores, valid_scores = learning_curve(\n",
        "   LogisticRegression(C=0.23357214690901212), xtrain, ytrain, train_sizes=np.linspace(0.01, 1.0, 40), cv=5,\n",
        "    scoring=\"neg_root_mean_squared_error\"\n",
        ")\n",
        "\n",
        "train_errors = -train_scores.mean(axis=1)\n",
        "valid_errors = -valid_scores.mean(axis=1)\n",
        "\n",
        "plt.plot(train_sizes, train_errors, \"r-+\", linewidth=2, label=\"train\")\n",
        "plt.plot(train_sizes, valid_errors, \"b-\", linewidth=3, label=\"valid\")"
      ],
      "metadata": {
        "id": "NkarDIlIoFVR"
      },
      "execution_count": null,
      "outputs": []
    },
    {
      "cell_type": "markdown",
      "source": [
        "it shows tha test error is reduce by increasing the number of instances so our model is perform good and it is not overfitting."
      ],
      "metadata": {
        "id": "J-cnkrREoN9v"
      }
    },
    {
      "cell_type": "code",
      "source": [
        "ada_clf = AdaBoostClassifier(\n",
        "    DecisionTreeClassifier(max_depth=3,min_samples_split=10), n_estimators=200,\n",
        "    algorithm=\"SAMME.R\", learning_rate=0.5\n",
        "    )\n",
        "\n",
        "ada_clf.fit(xtrain, ytrain)"
      ],
      "metadata": {
        "id": "qnFYgYz8oPNV"
      },
      "execution_count": null,
      "outputs": []
    },
    {
      "cell_type": "code",
      "source": [
        "y_pred_ada= ada_clf.predict(xtest)\n",
        "accuracy_score(ytest, y_pred_ada)"
      ],
      "metadata": {
        "id": "oJ_C2dzToJDO"
      },
      "execution_count": null,
      "outputs": []
    },
    {
      "cell_type": "markdown",
      "source": [
        " run votting classifier algorithm on models those train with dimensionality reduction(PCA) instance\n",
        "cause low accuracy "
      ],
      "metadata": {
        "id": "CBD6qWseoVhH"
      }
    },
    {
      "cell_type": "code",
      "source": [
        "clf1=Perceptron(penalty='elasticnet')\n",
        "clf2=RandomForestClassifier(max_features=1, min_samples_split=50)\n",
        "clf3=LogisticRegression(C=10000.0)\n",
        "clf4=KNeighborsClassifier(leaf_size=1, metric='manhattan', n_neighbors=3)\n",
        "clf5=SGDClassifier(alpha=0.1, loss='log', penalty='none')"
      ],
      "metadata": {
        "id": "qti8Dfkvoec0"
      },
      "execution_count": null,
      "outputs": []
    },
    {
      "cell_type": "code",
      "source": [
        "vc=VotingClassifier(\n",
        "    estimators=(('per', clf1), ('rf', clf2), ('lr', clf3),('knn',clf4),('sgd',clf5))\n",
        "    ,voting='hard', n_jobs=-1)\n",
        "\n",
        "vc.fit(X_train_reduced,ytrain)"
      ],
      "metadata": {
        "id": "zc2mJ1RaogYx"
      },
      "execution_count": null,
      "outputs": []
    },
    {
      "cell_type": "code",
      "source": [
        "y_pred_vc= vc.predict(X_test_reduced)\n",
        "accuracy_score(ytest, y_pred_vc)"
      ],
      "metadata": {
        "id": "9hSsGJGHoi7-"
      },
      "execution_count": null,
      "outputs": []
    },
    {
      "cell_type": "code",
      "source": [
        "from sklearn.ensemble import StackingClassifier\n",
        "s=StackingClassifier(estimators=[('per', clf1), ('rf', clf2), ('lr', clf3),('knn',clf4),('sgd',clf5)])\n",
        "\n",
        "s.fit(X_train_reduced,ytrain)"
      ],
      "metadata": {
        "id": "SaLUIbvYolx2"
      },
      "execution_count": null,
      "outputs": []
    },
    {
      "cell_type": "code",
      "source": [
        "y_pred_s= s.predict(X_test_reduced)\n",
        "accuracy_score(ytest, y_pred_s)"
      ],
      "metadata": {
        "id": "WPDZPdACoog1"
      },
      "execution_count": null,
      "outputs": []
    }
  ]
}