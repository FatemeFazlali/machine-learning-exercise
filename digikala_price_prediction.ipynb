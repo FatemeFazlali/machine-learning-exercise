{
  "nbformat": 4,
  "nbformat_minor": 0,
  "metadata": {
    "colab": {
      "provenance": []
    },
    "kernelspec": {
      "name": "python3",
      "display_name": "Python 3"
    },
    "language_info": {
      "name": "python"
    }
  },
  "cells": [
    {
      "cell_type": "code",
      "execution_count": null,
      "metadata": {
        "id": "OaAVlEWvprJ-"
      },
      "outputs": [],
      "source": [
        "import numpy as np\n",
        "import pandas as pd\n",
        "import matplotlib.pyplot as plt\n",
        "from sklearn.pipeline import make_pipeline\n",
        "from sklearn.linear_model import LinearRegression, SGDRegressor, Ridge, Lasso\n",
        "from sklearn.preprocessing import PolynomialFeatures, MinMaxScaler, StandardScaler\n",
        "from sklearn.model_selection import train_test_split, learning_curve,cross_val_score\n",
        "from sklearn.metrics import mean_squared_error,r2_score\n",
        "from sklearn.tree import DecisionTreeRegressor\n",
        "from sklearn.ensemble import RandomForestRegressor\n",
        "from sklearn.neighbors import KNeighborsRegressor"
      ]
    },
    {
      "cell_type": "code",
      "source": [
        "df=pd.read_csv('data/train.csv')"
      ],
      "metadata": {
        "id": "p_D_4_Y8ptD_"
      },
      "execution_count": null,
      "outputs": []
    },
    {
      "cell_type": "code",
      "source": [
        "import ast\n",
        "\n",
        "def convert_to_dict(string):\n",
        "    dic = ast.literal_eval(string)\n",
        "    return dic\n",
        "df['product_description_dic']=df['product_description'].apply(convert_to_dict)\n"
      ],
      "metadata": {
        "id": "GVJzoQ3rpu1r"
      },
      "execution_count": null,
      "outputs": []
    },
    {
      "cell_type": "code",
      "source": [
        "def split_dict_column():\n",
        "    feature_list=['دسته بندی','برند']\n",
        "    dic={}\n",
        "    for feature_name in feature_list:\n",
        "        val_list=[]\n",
        "        for i in range(0,df.shape[0]):\n",
        "            key=list(df['product_description_dic'][i].keys())\n",
        "            for j in range(len(key)):\n",
        "                if key[j]==feature_name:\n",
        "                    val=list(df['product_description_dic'][i].values())[j]\n",
        "                    val_list.append(val)\n",
        "        dic[feature_name]=val_list\n",
        "    new_df=pd.DataFrame(dict([ (k,pd.Series(v)) for k,v in dic.items() ]))\n",
        "    result = pd.concat([df, new_df], axis=1)\n",
        "    result.drop(columns=['product_description_dic'],inplace=True)\n",
        "    result.to_csv('final_df.csv')\n",
        "    return new_df\n",
        "\n",
        "split_dict_column()"
      ],
      "metadata": {
        "id": "UO4qv61zpuv3"
      },
      "execution_count": null,
      "outputs": []
    },
    {
      "cell_type": "code",
      "source": [
        "df=pd.read_csv('final_df.csv')"
      ],
      "metadata": {
        "id": "HANUb250p2k8"
      },
      "execution_count": null,
      "outputs": []
    },
    {
      "cell_type": "code",
      "source": [
        "df['brand']=df['برند']\n",
        "df['category']=df['دسته بندی']"
      ],
      "metadata": {
        "id": "WG9zDFvMp4GY"
      },
      "execution_count": null,
      "outputs": []
    },
    {
      "cell_type": "code",
      "source": [
        "df.drop(columns=['Unnamed: 0','برند','دسته بندی','product_description'],inplace=True)\n"
      ],
      "metadata": {
        "id": "084H-x44p4nC"
      },
      "execution_count": null,
      "outputs": []
    },
    {
      "cell_type": "code",
      "source": [
        "df.isna().sum()"
      ],
      "metadata": {
        "id": "aOphUXi9p7F_"
      },
      "execution_count": null,
      "outputs": []
    },
    {
      "cell_type": "code",
      "source": [
        "df.info()"
      ],
      "metadata": {
        "id": "BiD-L3xIp8Qm"
      },
      "execution_count": null,
      "outputs": []
    },
    {
      "cell_type": "code",
      "source": [
        "cat_feature_list=['category','brand']\n",
        "for i in cat_feature_list:\n",
        "    df[i] = pd.Categorical(df[i])\n",
        "    df[i] = df[i].cat.codes"
      ],
      "metadata": {
        "id": "aTjqhvyGp_SD"
      },
      "execution_count": null,
      "outputs": []
    },
    {
      "cell_type": "code",
      "source": [
        "values = df.groupby('brand').price.median().sort_values().index\n",
        "brand_weights = range(1, len(values)+1)\n",
        "brand_dic = {val: weights for (val, weights) in zip(values, brand_weights)}\n",
        "df.brand.replace(brand_dic, inplace=True)"
      ],
      "metadata": {
        "id": "yMGXA77vqAYT"
      },
      "execution_count": null,
      "outputs": []
    },
    {
      "cell_type": "code",
      "source": [
        "values = df.groupby('category').price.mean().sort_values().index\n",
        "category_weights = range(1, len(values)+1)\n",
        "category_dic = {val: weights for (val, weights) in zip(values, category_weights)}\n",
        "df.category.replace(category_dic, inplace=True)"
      ],
      "metadata": {
        "id": "6-KNY4PXqB_y"
      },
      "execution_count": null,
      "outputs": []
    },
    {
      "cell_type": "code",
      "source": [
        "df.groupby('brand').price.mean().sort_values()"
      ],
      "metadata": {
        "id": "7gXUOb09qDm6"
      },
      "execution_count": null,
      "outputs": []
    },
    {
      "cell_type": "code",
      "source": [
        "df.groupby('category').price.mean().sort_values()"
      ],
      "metadata": {
        "id": "keSZWDtXqGip"
      },
      "execution_count": null,
      "outputs": []
    },
    {
      "cell_type": "code",
      "source": [
        "a=df.corr()\n",
        "a['price'].sort_values()"
      ],
      "metadata": {
        "id": "8I84SsQAqHVu"
      },
      "execution_count": null,
      "outputs": []
    },
    {
      "cell_type": "code",
      "source": [
        "X= df.drop([\"price\"],axis =1)\n",
        "y= df[\"price\"]"
      ],
      "metadata": {
        "id": "mhNCOnHEqJHy"
      },
      "execution_count": null,
      "outputs": []
    },
    {
      "cell_type": "code",
      "source": [
        "X_train, X_test, y_train, y_test = train_test_split(X, y,test_size=0.3, random_state=5)\n",
        "X_train.shape"
      ],
      "metadata": {
        "id": "IfVeDdSiqKvU"
      },
      "execution_count": null,
      "outputs": []
    },
    {
      "cell_type": "code",
      "source": [
        "X_test"
      ],
      "metadata": {
        "id": "hrpSlIfQqMsk"
      },
      "execution_count": null,
      "outputs": []
    },
    {
      "cell_type": "code",
      "source": [
        "y_test.shape"
      ],
      "metadata": {
        "id": "1v7GYJKYqOeB"
      },
      "execution_count": null,
      "outputs": []
    },
    {
      "cell_type": "code",
      "source": [
        "lasso=Lasso()\n",
        "dt=DecisionTreeRegressor()\n",
        "knn=KNeighborsRegressor()\n",
        "poly_pipline = make_pipeline(\n",
        "    PolynomialFeatures(degree=4, include_bias=False),\n",
        "    LinearRegression() \n",
        ")\n",
        "models=[poly_pipline,lasso,dt,knn]\n",
        "for model in models:\n",
        "    model.fit(X_train, y_train)"
      ],
      "metadata": {
        "id": "SpJoEPbCqQ_F"
      },
      "execution_count": null,
      "outputs": []
    },
    {
      "cell_type": "code",
      "source": [
        "cv_results_rms = []\n",
        "for model in models:\n",
        "    cv_score = cross_val_score(model, X_train,y_train,scoring=\"neg_root_mean_squared_error\", cv=5)\n",
        "    cv_results_rms.append(cv_score)\n",
        "    print(\"%s: %f \" % (model, -1 * cv_score.mean()))"
      ],
      "metadata": {
        "id": "zmu0sx-nqRbU"
      },
      "execution_count": null,
      "outputs": []
    },
    {
      "cell_type": "code",
      "source": [
        "df.price.mean()"
      ],
      "metadata": {
        "id": "5ZWFMjRUqUDB"
      },
      "execution_count": null,
      "outputs": []
    },
    {
      "cell_type": "code",
      "source": [
        "y_dt_pred=dt.predict(X_test) \n",
        "print(\"R^2 decisionTree:\",r2_score(y_test, y_dt_pred))"
      ],
      "metadata": {
        "id": "LP7hlN7vqWLz"
      },
      "execution_count": null,
      "outputs": []
    },
    {
      "cell_type": "code",
      "source": [
        "y_poly_pred=poly_pipline.predict(X_test) \n",
        "print(\"R^2 poly:\",r2_score(y_test, y_poly_pred))"
      ],
      "metadata": {
        "id": "5tHrCkHUqXWy"
      },
      "execution_count": null,
      "outputs": []
    },
    {
      "cell_type": "code",
      "source": [
        "y_knn_pred=knn.predict(X_test)\n",
        "print(\"R^2 poly:\",r2_score(y_test, y_knn_pred))"
      ],
      "metadata": {
        "id": "V7y09RvsqY0M"
      },
      "execution_count": null,
      "outputs": []
    },
    {
      "cell_type": "code",
      "source": [
        "df_test=pd.read_csv('data/test.csv')"
      ],
      "metadata": {
        "id": "RwRiSEFHqbDl"
      },
      "execution_count": null,
      "outputs": []
    },
    {
      "cell_type": "code",
      "source": [
        "import ast\n",
        "\n",
        "def convert_to_dict(string):\n",
        "    dic = ast.literal_eval(string)\n",
        "    return dic\n",
        "df_test['product_description_dic']=df_test['product_description'].apply(convert_to_dict)\n"
      ],
      "metadata": {
        "id": "Dphvzd2iqems"
      },
      "execution_count": null,
      "outputs": []
    },
    {
      "cell_type": "code",
      "source": [
        "def split_dict_column():\n",
        "    feature_list=['دسته بندی','برند']\n",
        "    dic={}\n",
        "    for feature_name in feature_list:\n",
        "        val_list=[]\n",
        "        for i in range(0,df_test.shape[0]):\n",
        "            key=list(df_test['product_description_dic'][i].keys())\n",
        "            for j in range(len(key)):\n",
        "                if key[j]==feature_name:\n",
        "                    val=list(df_test['product_description_dic'][i].values())[j]\n",
        "                    val_list.append(val)\n",
        "        dic[feature_name]=val_list\n",
        "    new_df=pd.DataFrame(dict([ (k,pd.Series(v)) for k,v in dic.items() ]))\n",
        "    result = pd.concat([df_test, new_df], axis=1)\n",
        "    result.drop(columns=['product_description_dic'],inplace=True)\n",
        "    result.to_csv('final_df_test.csv')\n",
        "    return new_df\n",
        "\n",
        "split_dict_column()\n"
      ],
      "metadata": {
        "id": "QFU4mT4jqgZC"
      },
      "execution_count": null,
      "outputs": []
    },
    {
      "cell_type": "code",
      "source": [
        "df_test=pd.read_csv('final_df_test.csv')\n",
        "df_test['brand']=df_test['برند']\n",
        "df_test['category']=df_test['دسته بندی']\n",
        "df_test.drop(columns=['Unnamed: 0','برند','دسته بندی','product_description'],inplace=True)\n",
        "cat_feature_list=['category','brand']\n",
        "\n",
        "\n",
        "for i in cat_feature_list:\n",
        "    df_test[i] = pd.Categorical(df_test[i])\n",
        "    df_test[i] = df_test[i].cat.codes\n"
      ],
      "metadata": {
        "id": "X4u5mgHwqiYB"
      },
      "execution_count": null,
      "outputs": []
    },
    {
      "cell_type": "code",
      "source": [
        "df_test"
      ],
      "metadata": {
        "id": "TvMTq2-7qlpb"
      },
      "execution_count": null,
      "outputs": []
    },
    {
      "cell_type": "code",
      "source": [
        "price=knn.predict(df_test) "
      ],
      "metadata": {
        "id": "MHHPX5zPqocK"
      },
      "execution_count": null,
      "outputs": []
    },
    {
      "cell_type": "code",
      "source": [
        "price_df=pd.DataFrame(price)"
      ],
      "metadata": {
        "id": "sd70KiPIqpR_"
      },
      "execution_count": null,
      "outputs": []
    },
    {
      "cell_type": "code",
      "source": [
        "price_df['price']=price_df[0]"
      ],
      "metadata": {
        "id": "loVSs_hzqqhA"
      },
      "execution_count": null,
      "outputs": []
    },
    {
      "cell_type": "code",
      "source": [
        "result"
      ],
      "metadata": {
        "id": "_fBou_WbqsVD"
      },
      "execution_count": null,
      "outputs": []
    },
    {
      "cell_type": "code",
      "source": [
        "result = pd.concat([df_test, price_df], axis=1)"
      ],
      "metadata": {
        "id": "MgxmLnPJqvaq"
      },
      "execution_count": null,
      "outputs": []
    },
    {
      "cell_type": "code",
      "source": [
        "result.drop(columns=['brand','category',0],inplace=True)"
      ],
      "metadata": {
        "id": "fko1rRGHqwP6"
      },
      "execution_count": null,
      "outputs": []
    },
    {
      "cell_type": "code",
      "source": [
        "result.to_csv('output.csv',index=False)"
      ],
      "metadata": {
        "id": "vNd9ROtjqyPi"
      },
      "execution_count": null,
      "outputs": []
    },
    {
      "cell_type": "code",
      "source": [
        "pd.read_csv('output.csv')"
      ],
      "metadata": {
        "id": "5zhM6RCaq0CN"
      },
      "execution_count": null,
      "outputs": []
    }
  ]
}