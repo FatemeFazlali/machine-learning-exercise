{
  "nbformat": 4,
  "nbformat_minor": 0,
  "metadata": {
    "colab": {
      "provenance": []
    },
    "kernelspec": {
      "name": "python3",
      "display_name": "Python 3"
    },
    "language_info": {
      "name": "python"
    }
  },
  "cells": [
    {
      "cell_type": "code",
      "execution_count": 1,
      "metadata": {
        "id": "1RkkWYp4GgUY"
      },
      "outputs": [],
      "source": [
        "import numpy as np\n",
        "import pandas as pd\n",
        "import matplotlib.pyplot as plt\n",
        "import seaborn as sns\n",
        "\n",
        "from sklearn.preprocessing import StandardScaler\n",
        "from sklearn.preprocessing import LabelEncoder\n",
        "from sklearn.preprocessing import MinMaxScaler\n",
        "from sklearn.ensemble import AdaBoostClassifier\n",
        "from sklearn.ensemble import BaggingClassifier\n",
        "from sklearn.ensemble import RandomForestClassifier\n",
        "from sklearn.ensemble import VotingClassifier\n",
        "from sklearn.ensemble import GradientBoostingClassifier\n",
        "\n",
        "from sklearn.svm import SVC\n",
        "from sklearn.svm import LinearSVC\n",
        "from sklearn.pipeline import make_pipeline\n",
        "from sklearn.neighbors import KNeighborsClassifier\n",
        "from sklearn.tree import DecisionTreeClassifier\n",
        "from sklearn.linear_model import LogisticRegression\n",
        "from sklearn.linear_model import Perceptron\n",
        "from sklearn.linear_model import SGDClassifier\n",
        "\n",
        "from sklearn.model_selection import train_test_split\n",
        "from sklearn.model_selection import StratifiedKFold\n",
        "from sklearn.model_selection import GridSearchCV\n",
        "from sklearn.model_selection import learning_curve\n",
        "\n",
        "from sklearn.metrics import confusion_matrix\n",
        "from sklearn.metrics import classification_report\n",
        "from sklearn.metrics import roc_auc_score\n",
        "from sklearn.metrics import auc\n",
        "from sklearn.metrics import precision_score\n",
        "from sklearn.metrics import recall_score\n",
        "from sklearn.metrics import accuracy_score\n",
        "from sklearn.metrics import mean_squared_error\n",
        "from sklearn.metrics import f1_score\n",
        "from sklearn.metrics import roc_curve"
      ]
    },
    {
      "cell_type": "code",
      "source": [
        "df=pd.read_csv('travel_insurance/train.csv')"
      ],
      "metadata": {
        "id": "yP06BqoZhN3a"
      },
      "execution_count": null,
      "outputs": []
    },
    {
      "cell_type": "code",
      "source": [
        "df"
      ],
      "metadata": {
        "id": "3v5KDHnehOcZ"
      },
      "execution_count": null,
      "outputs": []
    },
    {
      "cell_type": "code",
      "source": [
        "df.isna().sum()"
      ],
      "metadata": {
        "id": "F_knpIp2hPhJ"
      },
      "execution_count": null,
      "outputs": []
    },
    {
      "cell_type": "code",
      "source": [
        "df.drop(columns=['Customer Id'],inplace=True)"
      ],
      "metadata": {
        "id": "rEN4NWa-hTTz"
      },
      "execution_count": null,
      "outputs": []
    },
    {
      "cell_type": "code",
      "source": [
        "cat_column=['Employment Type','GraduateOrNot','FrequentFlyer','EverTravelledAbroad','TravelInsurance']\n",
        "for i in cat_column:\n",
        "    df[i] = pd.Categorical(df[i])\n",
        "    df[i] = df[i].cat.codes"
      ],
      "metadata": {
        "id": "AEmNpr3NhVDj"
      },
      "execution_count": null,
      "outputs": []
    },
    {
      "cell_type": "code",
      "source": [
        "a=df.corr()\n",
        "a['TravelInsurance'].sort_values()"
      ],
      "metadata": {
        "id": "SzOPTiVlhc_P"
      },
      "execution_count": null,
      "outputs": []
    },
    {
      "cell_type": "code",
      "source": [
        "x=df.drop(columns=['TravelInsurance'])\n",
        "y=df['TravelInsurance']\n",
        "\n",
        "X_train, X_test, y_train, y_test = train_test_split(x, y, test_size=0.3, random_state=54,)\n"
      ],
      "metadata": {
        "id": "2Jy3TFnYhe8N"
      },
      "execution_count": null,
      "outputs": []
    },
    {
      "cell_type": "markdown",
      "source": [
        "GridSearch "
      ],
      "metadata": {
        "id": "BsGPDsd1hkRo"
      }
    },
    {
      "cell_type": "code",
      "source": [
        "classifier = [DecisionTreeClassifier(),\n",
        "             SVC(),\n",
        "             RandomForestClassifier(),\n",
        "             LogisticRegression(),\n",
        "             KNeighborsClassifier(),\n",
        "             SGDClassifier()\n",
        "            ]\n",
        "\n",
        "dt_param_grid = {\"min_samples_split\" : range(10,100,10),\n",
        "                \"max_depth\": range(1,10)}\n",
        "\n",
        "svc_param_grid = {\"kernel\" : [\"rbf\",'poly'],\n",
        "                 \"gamma\": [0.001, 0.1, 1],\n",
        "                 \"C\": [0.1, 1,10],\n",
        "                 'degree':[2,3]}\n",
        "\n",
        "rf_param_grid = {\"max_features\": [1,10],\n",
        "                \"min_samples_split\":[2,10],\n",
        "                \"min_samples_leaf\":[1,10],\n",
        "                \"bootstrap\":[False],\n",
        "                \"n_estimators\":[100],\n",
        "                \"criterion\":[\"gini\",'antropy']}\n",
        "\n",
        "logreg_param_grid = {\"C\":np.logspace(-2, 2),\n",
        "                    \"penalty\": [\"l1\",\"l2\",\"none\"]}\n",
        "\n",
        "knn_param_grid = {\"n_neighbors\": np.linspace(2,20, dtype = int).tolist(),\n",
        "                 \"metric\":[\"manhattan\"],\n",
        "                 \"leaf_size\": [1,5,10]}\n",
        "sgdc_param_grid = {\n",
        "    \"loss\" : [\"hinge\", \"log\"],\n",
        "    \"alpha\" : [ 0.001, 0.01, 0.1],\n",
        "    \"penalty\" : [\"l2\", \"l1\", \"none\"]}\n",
        "\n",
        "\n",
        "\n",
        "\n",
        "classifier_param = [dt_param_grid,\n",
        "                   svc_param_grid,\n",
        "                   rf_param_grid,\n",
        "                   logreg_param_grid,\n",
        "                   knn_param_grid,\n",
        "                   sgdc_param_grid\n",
        "                 ]\n",
        "\n",
        "cv_result = []\n",
        "best_estimators = []\n",
        "mean_squared_errors = []\n",
        "recall_scores = []\n",
        "precision_scores = []\n",
        "f1_scores = []\n",
        "roc_auc=[]\n",
        "\n",
        "for i in range(len(classifier)):\n",
        "    print(\"---------------------------------------------------------------------------\")\n",
        "    clf = GridSearchCV(classifier[i],\n",
        "                       param_grid=classifier_param[i],\n",
        "                       cv = StratifiedKFold(n_splits = 3),\n",
        "                       scoring = \"accuracy\",\n",
        "                       n_jobs = -1,verbose = 2)\n",
        "    clf.fit(X_train,y_train)\n",
        "    \n",
        "    cv_result.append(clf.best_score_)\n",
        "    \n",
        "    mean_squared_errors.append(mean_squared_error(y_test,clf.predict(X_test)))\n",
        "\n",
        "    roc_auc.append(roc_auc_score(y_test,clf.predict(X_test)))\n",
        "    recall_scores.append(recall_score(y_test, clf.predict(X_test), average='weighted'))\n",
        "    \n",
        "    precision_scores.append(precision_score(y_test, clf.predict(X_test), average='weighted'))\n",
        "    \n",
        "    f1_scores.append(f1_score(y_test, clf.predict(X_test), average='weighted'))\n",
        "    \n",
        "    best_estimators.append(clf.best_estimator_)\n",
        "    \n",
        "    print(\"Model: {}\".format(classifier[i]))\n",
        "    print(\"Accuracy: %{}\".format(round(cv_result[i]*100,2)))\n",
        "    print(\"MSE: {}\".format(mean_squared_errors[i]))\n",
        "    print('roc score:{}'.format(roc_auc[i]))\n",
        "    print(\"Recall: {}\".format(recall_scores[i]))\n",
        "    print(\"Precision: {}\".format(precision_scores[i]))\n",
        "    print(\"F1-Score: {}\".format(f1_scores[i]))\n",
        "    print(\"Best Estimator: {}\".format(clf.best_estimator_))\n",
        "    \n",
        "print(\"---------------------------------------------------------------------------\")\n",
        "sns.set_style(\"darkgrid\")\n",
        "cv_results = pd.DataFrame({\"Accuracy\":cv_result,\n",
        "                           \"MSE\":mean_squared_errors,\n",
        "                           \"Recall\": recall_scores,\n",
        "                           \"Precision\": precision_scores,\n",
        "                           \"F1-Score\":f1_scores,\n",
        "                           'roc':roc_auc,\n",
        "                           \"Models\":[\"DecisionTreeClassifier\", \n",
        "                                     \"SVC\",\n",
        "                                     \"RandomForestClassifier\",\n",
        "                                     \"LogisticRegression\",\n",
        "                                     \"KNeighborsClassifier\",\n",
        "                                     \"SGDClassifier\"\n",
        "                                   ]})\n",
        "\n",
        "cv_results.index = cv_results[\"Models\"]\n",
        "\n",
        "cv_results  = cv_results.drop([\"Models\"], axis = 1)\n",
        "\n",
        "f,ax = plt.subplots(figsize=(14,10))\n",
        "\n",
        "sns.heatmap(cv_results, annot=True,cmap = \"Blues\",fmt= '.3f',\n",
        "            ax=ax,linewidths = 5, cbar = False,\n",
        "            annot_kws={\"size\": 18})\n",
        "\n",
        "plt.xticks(size = 18)\n",
        "plt.yticks(size = 18, rotation = 0)\n",
        "plt.ylabel(\"Models\")\n",
        "plt.title(\"Grid Search Results\", size = 16)\n",
        "plt.show()\n",
        "    "
      ],
      "metadata": {
        "id": "Vk2JyZpshjXf"
      },
      "execution_count": null,
      "outputs": []
    },
    {
      "cell_type": "code",
      "source": [
        "sns.set_style(\"darkgrid\")\n",
        "cv_results = pd.DataFrame({\"Cross Validation Means\":cv_result,\n",
        "                           \"Models\":[\"DecisionTreeClassifier\", \"SVC\",\n",
        "                                     \"RandomForestClassifier\",\n",
        "                                     \"LogisticRegression\",\n",
        "                                     \"KNeighborsClassifier\",\n",
        "                                     \"SGDClassifier\"\n",
        "                                    ]})\n",
        "\n",
        "plt.figure(figsize = (10,6))\n",
        "sns.barplot(\"Cross Validation Means\", \"Models\",\n",
        "            data = cv_results, palette = \"Set1\")\n",
        "plt.xlabel(\"Mean Accuracy\",\n",
        "           size = 12)\n",
        "plt.yticks(size = 14)\n",
        "plt.title(\"Cross Validation Scores\",\n",
        "          size = 12)\n",
        "plt.show()"
      ],
      "metadata": {
        "id": "pieDAorIiBvJ"
      },
      "execution_count": null,
      "outputs": []
    },
    {
      "cell_type": "markdown",
      "source": [
        "Scaling"
      ],
      "metadata": {
        "id": "1QzVu4dSiFPp"
      }
    },
    {
      "cell_type": "code",
      "source": [
        "scale_min_max=MinMaxScaler()\n",
        "x_train_scale=scale_min_max.fit_transform(X_train,y_train)\n",
        "x_test_scale=scale_min_max.transform(X_test)\n",
        "scale_standard=StandardScaler()\n",
        "x_train_scale=scale_standard.fit_transform(X_train,y_train)\n",
        "x_test_scale=scale_standard.fit_transform(X_test)"
      ],
      "metadata": {
        "id": "krRMkobLiE_n"
      },
      "execution_count": null,
      "outputs": []
    },
    {
      "cell_type": "code",
      "source": [
        "best_estimators"
      ],
      "metadata": {
        "id": "Tuo4d_CTiJrM"
      },
      "execution_count": null,
      "outputs": []
    },
    {
      "cell_type": "markdown",
      "source": [
        "RandomForestClassifier"
      ],
      "metadata": {
        "id": "JAIXInmliOwW"
      }
    },
    {
      "cell_type": "code",
      "source": [
        "RFmodel=RandomForestClassifier(bootstrap=False, max_features=1, min_samples_leaf=10)\n",
        "RFmodel.fit(x_train_scale,y_train)\n",
        "\n",
        "y_pred_rf = RFmodel.predict(x_test_scale)\n",
        "\n",
        "print(classification_report(y_test, y_pred_rf))"
      ],
      "metadata": {
        "id": "1WTI6eYXiNMR"
      },
      "execution_count": null,
      "outputs": []
    },
    {
      "cell_type": "code",
      "source": [
        "train_sizes, train_scores, valid_scores = learning_curve(\n",
        "   RFmodel, X_train, y_train, train_sizes=np.linspace(0.01, 1.0, 40), cv=5,\n",
        "    scoring=\"neg_root_mean_squared_error\"\n",
        ")\n",
        "\n",
        "train_errors = -train_scores.mean(axis=1)\n",
        "valid_errors = -valid_scores.mean(axis=1)\n",
        "\n",
        "plt.plot(train_sizes, train_errors, \"r-+\", linewidth=2, label=\"train\")\n",
        "plt.plot(train_sizes, valid_errors, \"b-\", linewidth=3, label=\"valid\")"
      ],
      "metadata": {
        "id": "-EOypEDhiRxF"
      },
      "execution_count": null,
      "outputs": []
    },
    {
      "cell_type": "markdown",
      "source": [
        "DecisionTreeClassifier"
      ],
      "metadata": {
        "id": "cVNETumciWLT"
      }
    },
    {
      "cell_type": "code",
      "source": [
        "DTmodel= DecisionTreeClassifier(max_depth=3, min_samples_split=4)\n",
        "\n",
        "\n",
        "DTmodel.fit(X_train,y_train)\n",
        "\n",
        "y_pred = DTmodel.predict(X_test)\n",
        "\n",
        "print(classification_report(y_test, y_pred))"
      ],
      "metadata": {
        "id": "9c6LYB0tiXHd"
      },
      "execution_count": null,
      "outputs": []
    },
    {
      "cell_type": "code",
      "source": [
        "DTmodel_scale= DecisionTreeClassifier(max_depth=3, min_samples_split=8)\n",
        "\n",
        "\n",
        "DTmodel_scale.fit(x_train_scale,y_train)\n",
        "\n",
        "y_pred_scale= DTmodel_scale.predict(x_test_scale)\n",
        "\n",
        "print(classification_report(y_test, y_pred_scale))"
      ],
      "metadata": {
        "id": "v-B_y9K7iYv3"
      },
      "execution_count": null,
      "outputs": []
    },
    {
      "cell_type": "markdown",
      "source": [
        "scaling was not effective."
      ],
      "metadata": {
        "id": "bV4iYzIgiduG"
      }
    },
    {
      "cell_type": "code",
      "source": [
        "train_sizes, train_scores, valid_scores = learning_curve(\n",
        "   DTmodel, X_train, y_train, train_sizes=np.linspace(0.01, 1.0, 40), cv=5,\n",
        "    scoring=\"neg_root_mean_squared_error\"\n",
        ")\n",
        "\n",
        "train_errors = -train_scores.mean(axis=1)\n",
        "valid_errors = -valid_scores.mean(axis=1)\n",
        "\n",
        "plt.plot(train_sizes, train_errors, \"r-+\", linewidth=2, label=\"train\")\n",
        "plt.plot(train_sizes, valid_errors, \"b-\", linewidth=3, label=\"valid\")"
      ],
      "metadata": {
        "id": "rGflq-vQiagD"
      },
      "execution_count": null,
      "outputs": []
    },
    {
      "cell_type": "markdown",
      "source": [
        "SVC"
      ],
      "metadata": {
        "id": "IW4kS4yqimkf"
      }
    },
    {
      "cell_type": "code",
      "source": [
        "svc=SVC(C=1, gamma=0.1,probability=True)\n",
        "\n",
        "svc.fit(X_train,y_train)\n",
        "\n",
        "y_pred_svc= svc.predict(X_test)\n",
        "\n",
        "print(classification_report(y_test, y_pred_svc))"
      ],
      "metadata": {
        "id": "rneN4KVDilSf"
      },
      "execution_count": null,
      "outputs": []
    },
    {
      "cell_type": "markdown",
      "source": [
        "voting weak classifier"
      ],
      "metadata": {
        "id": "bu7YAQDZirQ_"
      }
    },
    {
      "cell_type": "code",
      "source": [
        "svc=SVC(C=1, gamma=0.1,probability=True)\n",
        "lr=LogisticRegression(C=0.01)\n",
        "votting_clf =VotingClassifier( estimators = [ ('lr',lr),('svc', svc)], voting = 'soft')\n",
        "for clf in (svc,lr,votting_clf):\n",
        "    clf.fit(X_train, y_train)\n",
        "    y_pred_vot = clf.predict(X_test)\n",
        "    print(clf.__class__.__name__ , accuracy_score(y_test, y_pred_vot))"
      ],
      "metadata": {
        "id": "IHw3tbekisqf"
      },
      "execution_count": null,
      "outputs": []
    },
    {
      "cell_type": "markdown",
      "source": [
        "BaggingClassifier"
      ],
      "metadata": {
        "id": "l5B7lBTMix_s"
      }
    },
    {
      "cell_type": "code",
      "source": [
        "bag_clf = BaggingClassifier(\n",
        "    DecisionTreeClassifier(max_depth=3, min_samples_split=10), n_estimators=500,\n",
        "    max_samples=100, bootstrap=True, n_jobs=-1)\n",
        "bag_clf.fit(X_train, y_train)\n",
        "y_pred_bag= bag_clf.predict(X_test)\n",
        "accuracy_score(y_test, y_pred_bag)"
      ],
      "metadata": {
        "id": "mqArssePiyV4"
      },
      "execution_count": null,
      "outputs": []
    },
    {
      "cell_type": "markdown",
      "source": [
        "AdaBoostClassifier"
      ],
      "metadata": {
        "id": "Lwq3R3x0i0Sg"
      }
    },
    {
      "cell_type": "code",
      "source": [
        "ada_clf = AdaBoostClassifier(\n",
        "    DecisionTreeClassifier(max_depth=3,min_samples_split=10), n_estimators=200,\n",
        "    algorithm=\"SAMME.R\", learning_rate=0.5\n",
        "    )\n",
        "\n",
        "ada_clf.fit(X_train, y_train)"
      ],
      "metadata": {
        "id": "reo9Rgcuivkn"
      },
      "execution_count": null,
      "outputs": []
    },
    {
      "cell_type": "code",
      "source": [
        "y_pred_ada= ada_clf.predict(X_test)\n",
        "accuracy_score(y_test, y_pred_ada)"
      ],
      "metadata": {
        "id": "CCMkvyUui50W"
      },
      "execution_count": null,
      "outputs": []
    },
    {
      "cell_type": "markdown",
      "source": [
        "test"
      ],
      "metadata": {
        "id": "z99qvkj0i-op"
      }
    },
    {
      "cell_type": "code",
      "source": [
        "df_test=pd.read_csv('travel_insurance/test.csv')"
      ],
      "metadata": {
        "id": "LXLoYE3hi8Dk"
      },
      "execution_count": null,
      "outputs": []
    },
    {
      "cell_type": "code",
      "source": [
        "df_test"
      ],
      "metadata": {
        "id": "apx18mzwjCBT"
      },
      "execution_count": null,
      "outputs": []
    },
    {
      "cell_type": "code",
      "source": [
        "cat_column=['Employment Type','GraduateOrNot','FrequentFlyer','EverTravelledAbroad']\n",
        "for i in cat_column:\n",
        "    df_test[i] = pd.Categorical(df_test[i])\n",
        "    df_test[i] = df_test[i].cat.codes\n",
        "    \n",
        "df_test"
      ],
      "metadata": {
        "id": "Y41jmvgMjDXG"
      },
      "execution_count": null,
      "outputs": []
    },
    {
      "cell_type": "code",
      "source": [
        "df_test1=df_test.drop(columns=['Customer Id'])\n",
        "df_test1"
      ],
      "metadata": {
        "id": "LRgVE4wQjIBw"
      },
      "execution_count": null,
      "outputs": []
    },
    {
      "cell_type": "code",
      "source": [
        "y_pred_dt= DTmodel.predict(df_test1)\n",
        "y_pred_dt"
      ],
      "metadata": {
        "id": "aq0hLTcbjLOG"
      },
      "execution_count": null,
      "outputs": []
    },
    {
      "cell_type": "code",
      "source": [
        "y_pred_v= votting_clf.predict(df_test1)\n",
        "y_pred_v"
      ],
      "metadata": {
        "id": "aspS9Gy-jNzM"
      },
      "execution_count": null,
      "outputs": []
    },
    {
      "cell_type": "code",
      "source": [
        "pred_df=pd.DataFrame(y_pred_v)\n",
        "\n",
        "pred_df['prediction']=pred_df[0]\n",
        "result = pd.concat([df_test, pred_df], axis=1)\n",
        "result"
      ],
      "metadata": {
        "id": "ngPNHW2qjQEG"
      },
      "execution_count": null,
      "outputs": []
    },
    {
      "cell_type": "code",
      "source": [
        "drop_column=['Employment Type','Age','GraduateOrNot','ChronicDiseases','AnnualIncome','FamilyMembers','FrequentFlyer','EverTravelledAbroad',0]\n",
        "result.drop(columns=drop_column,inplace=True)\n",
        "result"
      ],
      "metadata": {
        "id": "uV9_ca18jTdG"
      },
      "execution_count": null,
      "outputs": []
    },
    {
      "cell_type": "code",
      "source": [
        "result.to_csv('output.csv',index=False)\n",
        "pd.read_csv('output.csv')"
      ],
      "metadata": {
        "id": "AuztUihUjVrF"
      },
      "execution_count": null,
      "outputs": []
    },
    {
      "cell_type": "code",
      "source": [],
      "metadata": {
        "id": "h837GaEpjXz4"
      },
      "execution_count": null,
      "outputs": []
    }
  ]
}