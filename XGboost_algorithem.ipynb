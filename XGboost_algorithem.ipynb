{
  "nbformat": 4,
  "nbformat_minor": 0,
  "metadata": {
    "colab": {
      "provenance": []
    },
    "kernelspec": {
      "name": "python3",
      "display_name": "Python 3"
    },
    "language_info": {
      "name": "python"
    }
  },
  "cells": [
    {
      "cell_type": "code",
      "execution_count": null,
      "metadata": {
        "id": "cTFPL3ezo7Zx"
      },
      "outputs": [],
      "source": [
        "import numpy as np\n",
        "import pandas as pd\n",
        "import seaborn as sns\n",
        "import xgboost as xgb\n",
        "import matplotlib.pyplot as plt"
      ]
    },
    {
      "cell_type": "code",
      "source": [
        "df=pd.read_csv('dermatology.csv')\n",
        "df"
      ],
      "metadata": {
        "id": "rUZF0vnDo8h6"
      },
      "execution_count": null,
      "outputs": []
    },
    {
      "cell_type": "code",
      "source": [
        "df.isna().sum()"
      ],
      "metadata": {
        "id": "yTU3mKzvo95F"
      },
      "execution_count": null,
      "outputs": []
    },
    {
      "cell_type": "code",
      "source": [
        "df.age.values"
      ],
      "metadata": {
        "id": "lIXvJH9ipBGF"
      },
      "execution_count": null,
      "outputs": []
    },
    {
      "cell_type": "code",
      "source": [
        "from sklearn.impute import SimpleImputer\n",
        "imp= SimpleImputer(missing_values=np.nan, strategy='most_frequent')\n",
        "age_imp=pd.DataFrame(imp.fit_transform(np.array(df.age).reshape(-1,1)))"
      ],
      "metadata": {
        "id": "xS_tQQITpC2J"
      },
      "execution_count": null,
      "outputs": []
    },
    {
      "cell_type": "code",
      "source": [
        "df.age=age_imp"
      ],
      "metadata": {
        "id": "DF1JOAnHpEsb"
      },
      "execution_count": null,
      "outputs": []
    },
    {
      "cell_type": "code",
      "source": [
        "df.info()"
      ],
      "metadata": {
        "id": "jhSQ6qP6pGow"
      },
      "execution_count": null,
      "outputs": []
    },
    {
      "cell_type": "code",
      "source": [
        "df.isna().sum()"
      ],
      "metadata": {
        "id": "9YBX9rwepHQe"
      },
      "execution_count": null,
      "outputs": []
    },
    {
      "cell_type": "code",
      "source": [
        "x=df.drop(columns=['class'])\n",
        "y=df['class']\n",
        "\n",
        "x.shape"
      ],
      "metadata": {
        "id": "AqDlXHWTpJD4"
      },
      "execution_count": null,
      "outputs": []
    },
    {
      "cell_type": "code",
      "source": [
        "from sklearn.feature_selection import VarianceThreshold\n",
        "select=VarianceThreshold(threshold=0)\n",
        "x=select.fit_transform(x)\n",
        "\n",
        "x.shape"
      ],
      "metadata": {
        "id": "zkAvNcQQpN11"
      },
      "execution_count": null,
      "outputs": []
    },
    {
      "cell_type": "code",
      "source": [
        "from sklearn.preprocessing import LabelEncoder\n",
        "le = LabelEncoder()\n",
        "y= le.fit_transform(y)\n",
        "\n",
        "from sklearn.model_selection import train_test_split\n",
        "xtrain,xtest,ytrain,ytest=train_test_split(x,y,test_size=0.2,random_state=15)"
      ],
      "metadata": {
        "id": "vmiPD64upP7w"
      },
      "execution_count": null,
      "outputs": []
    },
    {
      "cell_type": "code",
      "source": [
        "from sklearn.model_selection import GridSearchCV\n",
        "PARAMETERS = {\n",
        "              \"max_depth\":[ 5, 10],\n",
        "              \"min_child_weight\":[2,10],\n",
        "              \"learning_rate\":[0.01, 0.1],\n",
        "              \"n_estimators\":[100,200]}\n",
        "model_gs = GridSearchCV(xgb_model,param_grid=PARAMETERS,cv=3,scoring=\"accuracy\")\n",
        "model_gs.fit(xtrain,ytrain)\n",
        "\n",
        "print(model_gs.best_params_)"
      ],
      "metadata": {
        "id": "L3hTPBSxpTL7"
      },
      "execution_count": null,
      "outputs": []
    },
    {
      "cell_type": "code",
      "source": [
        "xgb_model = xgb.XGBClassifier(learning_rate= 0.1, max_depth= 10, min_child_weight=2,n_estimators= 100)\n",
        "xgb_model.fit(xtrain, ytrain)"
      ],
      "metadata": {
        "id": "8GkfrveupVVn"
      },
      "execution_count": null,
      "outputs": []
    },
    {
      "cell_type": "code",
      "source": [
        "from sklearn.metrics import accuracy_score,classification_report\n",
        "ypred = xgb_model.predict(xtest)\n",
        "print(accuracy_score(ytest, ypred))\n",
        "print(classification_report(ytest, ypred))"
      ],
      "metadata": {
        "id": "AA5RVjM5pW8O"
      },
      "execution_count": null,
      "outputs": []
    },
    {
      "cell_type": "code",
      "source": [
        "from sklearn.decomposition import PCA\n",
        "\n",
        "pca = PCA(n_components=0.95)\n",
        "X_train_reduced = pca.fit_transform(xtrain)\n",
        "X_test_reduced = pca.transform(xtest)"
      ],
      "metadata": {
        "id": "h3Utrxefpahi"
      },
      "execution_count": null,
      "outputs": []
    },
    {
      "cell_type": "code",
      "source": [
        "xgb_model.fit(X_train_reduced, ytrain)\n",
        "ypred_pca= xgb_model.predict(X_test_reduced)\n",
        "print(accuracy_score(ytest, ypred_pca))\n",
        "print(classification_report(ytest, ypred_pca))"
      ],
      "metadata": {
        "id": "ZNIHekkxpbE0"
      },
      "execution_count": null,
      "outputs": []
    },
    {
      "cell_type": "code",
      "source": [
        "from sklearn.manifold import TSNE\n",
        "\n",
        "tsne = TSNE(n_components=2, random_state=42)\n",
        "X_reduced_tsne = tsne.fit_transform(xtrain)"
      ],
      "metadata": {
        "id": "OW3R0JHYpdYG"
      },
      "execution_count": null,
      "outputs": []
    },
    {
      "cell_type": "code",
      "source": [
        "X_reduced_tsne.shape"
      ],
      "metadata": {
        "id": "1lwznU5Apfsc"
      },
      "execution_count": null,
      "outputs": []
    },
    {
      "cell_type": "code",
      "source": [
        "plt.figure(figsize=(13,10))\n",
        "plt.scatter(X_reduced_tsne[:, 0], X_reduced_tsne[:, 1], c=ytrain, cmap=\"jet\")\n",
        "plt.axis('off')\n",
        "plt.colorbar()\n",
        "plt.show()"
      ],
      "metadata": {
        "id": "VHev3l0ppip-"
      },
      "execution_count": null,
      "outputs": []
    }
  ]
}